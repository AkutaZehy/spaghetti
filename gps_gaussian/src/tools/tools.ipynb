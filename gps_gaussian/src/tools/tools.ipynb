{
 "cells": [
  {
   "cell_type": "code",
   "execution_count": null,
   "metadata": {},
   "outputs": [],
   "source": [
    "# tools/frames2video.py\n",
    "import os\n",
    "import cv2\n",
    "import shutil\n",
    "from natsort import natsorted\n",
    "import tqdm"
   ]
  },
  {
   "cell_type": "code",
   "execution_count": null,
   "metadata": {},
   "outputs": [],
   "source": [
    "input_dir = 'D:/SchoolWork/Homework/XJTU/Research/LiveDemo/real_data/img'\n",
    "camera_dir = 'D:/SchoolWork/Homework/XJTU/Research/LiveDemo/real_data/cameras'\n",
    "output_dir = 'D:/SchoolWork/Homework/XJTU/Research/LiveDemo/data/input_videos'\n",
    "\n",
    "print(f\"共有{len(os.listdir(input_dir))}个文件夹\")"
   ]
  },
  {
   "cell_type": "code",
   "execution_count": null,
   "metadata": {},
   "outputs": [],
   "source": [
    "# 遍历input_dir，取16个机位，在每个文件夹下的每个帧以{机位号}.jpg的方式命名。\n",
    "# 取0-15共计15个机位，如果文件夹存在则删除并重新创建，没有就创建，将input_dir/{frame}/{camera}.jpg复制到camera_dir/{camera}/{frame}.jpg\n",
    "\n",
    "for camera in range(16):\n",
    "    camera_folder = os.path.join(camera_dir, str(camera))\n",
    "    if os.path.exists(camera_folder):\n",
    "        shutil.rmtree(camera_folder)\n",
    "    os.makedirs(camera_folder)\n",
    "\n",
    "    for frame in range(1, 451):\n",
    "        frame_folder = os.path.join(input_dir, str(frame).zfill(4))\n",
    "        if os.path.exists(frame_folder):\n",
    "            src_path = os.path.join(frame_folder, f'{camera}.jpg')\n",
    "            dst_path = os.path.join(camera_folder, f'{frame}.jpg')\n",
    "            shutil.copy(src_path, dst_path)"
   ]
  }
 ],
 "metadata": {
  "kernelspec": {
   "display_name": "gps_gaussian",
   "language": "python",
   "name": "python3"
  },
  "language_info": {
   "codemirror_mode": {
    "name": "ipython",
    "version": 3
   },
   "file_extension": ".py",
   "mimetype": "text/x-python",
   "name": "python",
   "nbconvert_exporter": "python",
   "pygments_lexer": "ipython3",
   "version": "3.10.13"
  }
 },
 "nbformat": 4,
 "nbformat_minor": 2
}
